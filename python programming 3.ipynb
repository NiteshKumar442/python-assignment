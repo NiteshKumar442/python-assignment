{
 "cells": [
  {
   "cell_type": "markdown",
   "id": "85dd20bd",
   "metadata": {},
   "source": [
    "1.\tWrite a Python Program to Check if a Number is Positive, Negative or Zero?"
   ]
  },
  {
   "cell_type": "code",
   "execution_count": null,
   "id": "f1477946",
   "metadata": {},
   "outputs": [],
   "source": [
    "a=int(input(\"enter a number  :\"))\n",
    "if a>0:\n",
    "    print(\"{} is greater than 0  \".format(a))\n",
    "elif a<0:\n",
    "    print(\"{} is smaller than 0  \".format(a))\n",
    "else:\n",
    "    print(\"{} is 0  \".format(a))\n",
    "    \n",
    "\n",
    "    \n",
    "    "
   ]
  },
  {
   "cell_type": "markdown",
   "id": "ecd5c163",
   "metadata": {},
   "source": [
    "2.\tWrite a Python Program to Check if a Number is Odd or Even?"
   ]
  },
  {
   "cell_type": "code",
   "execution_count": null,
   "id": "377e6e07",
   "metadata": {},
   "outputs": [],
   "source": [
    "a=int(input(\"enter a number :\"))\n",
    "if a%2==0:\n",
    "    print(\"{} is even number \".format(a))\n",
    "else:\n",
    "    print(\"{} is odd number \".format(a))\n",
    "    "
   ]
  },
  {
   "cell_type": "markdown",
   "id": "f511962d",
   "metadata": {},
   "source": [
    "3.\tWrite a Python Program to Check Leap Year?"
   ]
  },
  {
   "cell_type": "code",
   "execution_count": null,
   "id": "c82b7bfb",
   "metadata": {},
   "outputs": [],
   "source": [
    "year =int(input(\"enter a year :\"))\n",
    "if year%400==0 and year%100==0:\n",
    "    print(\"{} is a leap year\".format(year))\n",
    "elif year%4==0 and year%100 !=0:\n",
    "    print(\"{} is a leap year\".format(year))\n",
    "else:\n",
    "    print(\"{} is not a leap year\".format(year))\n",
    "    "
   ]
  },
  {
   "cell_type": "markdown",
   "id": "60176b4c",
   "metadata": {},
   "source": [
    "4.\tWrite a Python Program to Check Prime Number?"
   ]
  },
  {
   "cell_type": "code",
   "execution_count": null,
   "id": "78738630",
   "metadata": {},
   "outputs": [],
   "source": [
    "n=int(input(\"enter a number :\"))\n",
    "count=0\n",
    "i=1\n",
    "while(i<=n):\n",
    "    if(n%i==0):\n",
    "        count=count+1\n",
    "    i=i+1\n",
    "if(count==2):\n",
    "    print(\"prime number\")\n",
    "else:\n",
    "    print(\"not prime\")\n",
    "    \n",
    "        \n"
   ]
  },
  {
   "cell_type": "markdown",
   "id": "a1a0e062",
   "metadata": {},
   "source": [
    "5.\tWrite a Python Program to Print all Prime Numbers in an Interval of 1-10000?"
   ]
  },
  {
   "cell_type": "code",
   "execution_count": null,
   "id": "14306121",
   "metadata": {},
   "outputs": [],
   "source": [
    "\n",
    "lower = 1\n",
    "upper = 100000\n",
    "\n",
    "print(\"Prime numbers between\", lower, \"and\", upper, \"are:\")\n",
    "\n",
    "for num in range(lower, upper + 1):\n",
    "   # all prime numbers are greater than 1\n",
    "   if num > 1:\n",
    "       for i in range(2, num):\n",
    "           if (num % i) == 0:\n",
    "               break\n",
    "       else:\n",
    "           print(num)"
   ]
  },
  {
   "cell_type": "code",
   "execution_count": null,
   "id": "6d7bea7a",
   "metadata": {},
   "outputs": [],
   "source": []
  }
 ],
 "metadata": {
  "kernelspec": {
   "display_name": "Python 3 (ipykernel)",
   "language": "python",
   "name": "python3"
  },
  "language_info": {
   "codemirror_mode": {
    "name": "ipython",
    "version": 3
   },
   "file_extension": ".py",
   "mimetype": "text/x-python",
   "name": "python",
   "nbconvert_exporter": "python",
   "pygments_lexer": "ipython3",
   "version": "3.9.12"
  }
 },
 "nbformat": 4,
 "nbformat_minor": 5
}
