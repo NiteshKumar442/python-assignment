{
 "cells": [
  {
   "cell_type": "markdown",
   "id": "aa972465",
   "metadata": {},
   "source": [
    "1.\tWrite a Python Program to Find the Factorial of a Number?"
   ]
  },
  {
   "cell_type": "code",
   "execution_count": null,
   "id": "65e94d31",
   "metadata": {},
   "outputs": [],
   "source": [
    "n=int(input(\"enter a number :\"))\n",
    "factorial=1\n",
    "for i in range(1,n+1):\n",
    "    factorial=factorial*i\n",
    "print(factorial)\n",
    "    "
   ]
  },
  {
   "cell_type": "markdown",
   "id": "0d7f3d61",
   "metadata": {},
   "source": [
    "2.\tWrite a Python Program to Display the multiplication Table?"
   ]
  },
  {
   "cell_type": "code",
   "execution_count": null,
   "id": "f607a576",
   "metadata": {},
   "outputs": [],
   "source": [
    "n=int(input(\"enter a number\"))\n",
    "\n",
    "for i in range(1,11):\n",
    "    Table=n*i\n",
    "    print(Table)"
   ]
  },
  {
   "cell_type": "markdown",
   "id": "7d161234",
   "metadata": {},
   "source": [
    "3.\tWrite a Python Program to Print the Fibonacci sequence?"
   ]
  },
  {
   "cell_type": "code",
   "execution_count": null,
   "id": "64bcf66e",
   "metadata": {},
   "outputs": [],
   "source": [
    "n=int(input(\"enter a number\"))\n",
    "\n",
    "n1=0\n",
    "n2=1\n",
    "count=0\n",
    "while(count<n):\n",
    "    print(n1)\n",
    "    nth=n2 + n1\n",
    "    n1=n2\n",
    "    n2=nth\n",
    "    count=count+1\n"
   ]
  },
  {
   "cell_type": "markdown",
   "id": "3a0ba144",
   "metadata": {},
   "source": [
    "4.\tWrite a Python Program to Check Armstrong Number?"
   ]
  },
  {
   "cell_type": "code",
   "execution_count": 9,
   "id": "a995fc05",
   "metadata": {},
   "outputs": [
    {
     "name": "stdout",
     "output_type": "stream",
     "text": [
      "Enter a number to check Armstrong number :370\n",
      "number of digits in this number is 3\n",
      "This is armstrong number\n"
     ]
    }
   ],
   "source": [
    "n=int(input(\"Enter a number to check Armstrong number :\"))\n",
    "i=n\n",
    "count=0\n",
    "while(i>0):\n",
    "    i=i//10\n",
    "    count=count+1\n",
    "print(\"number of digits in this number is\",count)\n",
    "sum=0\n",
    "i=n\n",
    "while(i>0):\n",
    "    r=i%10\n",
    "    sum=sum+r**count\n",
    "    i=i//10\n",
    "\n",
    "if(sum==n):\n",
    "    print(\"This is armstrong number\")\n",
    "else:\n",
    "    print(\"it is not an armstrong number\")\n",
    "\n",
    "\n",
    "    "
   ]
  },
  {
   "cell_type": "markdown",
   "id": "5cc661d6",
   "metadata": {},
   "source": [
    "5.\tWrite a Python Program to Find Armstrong Number in an Interval?"
   ]
  },
  {
   "cell_type": "code",
   "execution_count": 11,
   "id": "e6c3c044",
   "metadata": {},
   "outputs": [
    {
     "name": "stdout",
     "output_type": "stream",
     "text": [
      "Enter a number to check Armstrong number :100\n",
      "Enter a number to check Armstrong number :10000\n",
      "153 armstrong number\n",
      "370 armstrong number\n",
      "371 armstrong number\n",
      "407 armstrong number\n",
      "1634 armstrong number\n",
      "8208 armstrong number\n",
      "9474 armstrong number\n"
     ]
    }
   ],
   "source": [
    "n1=int(input(\"Enter a number to check Armstrong number :\"))\n",
    "n2=int(input(\"Enter a number to check Armstrong number :\"))\n",
    "for i in range(n1+1,n2):\n",
    "    \n",
    "    count=0\n",
    "    n=i\n",
    "    while(n>0):\n",
    "        n=n//10\n",
    "        count=count+1\n",
    "    sum=0\n",
    "    n=i\n",
    "    while(n>0):\n",
    "        r=n%10\n",
    "        sum=sum+r**count\n",
    "        n=n//10\n",
    "    if(sum==i):\n",
    "        print(i,\"armstrong number\")\n",
    "\n",
    "   "
   ]
  },
  {
   "cell_type": "markdown",
   "id": "ec840a42",
   "metadata": {},
   "source": [
    "6.\tWrite a Python Program to Find the Sum of Natural Numbers?"
   ]
  },
  {
   "cell_type": "code",
   "execution_count": null,
   "id": "24259d0e",
   "metadata": {},
   "outputs": [],
   "source": [
    "n=int(input(\"enter a number :\"))\n",
    "sum=0\n",
    "for i in range(n+1):\n",
    "    sum=sum+i\n",
    "print(sum)    \n",
    "    "
   ]
  },
  {
   "cell_type": "code",
   "execution_count": null,
   "id": "68ae6015",
   "metadata": {},
   "outputs": [],
   "source": []
  }
 ],
 "metadata": {
  "kernelspec": {
   "display_name": "Python 3 (ipykernel)",
   "language": "python",
   "name": "python3"
  },
  "language_info": {
   "codemirror_mode": {
    "name": "ipython",
    "version": 3
   },
   "file_extension": ".py",
   "mimetype": "text/x-python",
   "name": "python",
   "nbconvert_exporter": "python",
   "pygments_lexer": "ipython3",
   "version": "3.9.12"
  }
 },
 "nbformat": 4,
 "nbformat_minor": 5
}
