{
 "cells": [
  {
   "cell_type": "markdown",
   "id": "c08bf2f7",
   "metadata": {},
   "source": [
    "1.\tWrite a Python program to convert kilometers to miles?"
   ]
  },
  {
   "cell_type": "code",
   "execution_count": 2,
   "id": "934d892e",
   "metadata": {},
   "outputs": [
    {
     "name": "stdout",
     "output_type": "stream",
     "text": [
      "enter distance in kilometers  :3\n",
      "3.0km will be equal to 1.8641135699999998 in miles\n"
     ]
    }
   ],
   "source": [
    "Distance=float(input(\"enter distance in kilometers  :\"))\n",
    "miles=0.62137119*Distance\n",
    "print(\"{0}km will be equal to {1} in miles\".format(Distance,miles))"
   ]
  },
  {
   "cell_type": "markdown",
   "id": "8e31e512",
   "metadata": {},
   "source": [
    "2.\tWrite a Python program to convert Celsius to Fahrenheit?"
   ]
  },
  {
   "cell_type": "code",
   "execution_count": 3,
   "id": "d3cd4024",
   "metadata": {},
   "outputs": [
    {
     "name": "stdout",
     "output_type": "stream",
     "text": [
      "enter temperature in celcius  :37\n",
      "Temperature in celcius 37.0 is equal to 98.60000000000001 in farenhite\n"
     ]
    }
   ],
   "source": [
    "Temperature_in_celcius=float(input(\"enter temperature in celcius  :\"))\n",
    "Temperature_in_farenhite=(9/5)*Temperature_in_celcius+32\n",
    "print(\"Temperature in celcius {0} is equal to {1} in farenhite\".format(Temperature_in_celcius,Temperature_in_farenhite))"
   ]
  },
  {
   "cell_type": "markdown",
   "id": "f6456f68",
   "metadata": {},
   "source": [
    "3.\tWrite a Python program to display calendar?"
   ]
  },
  {
   "cell_type": "code",
   "execution_count": 5,
   "id": "b3a7f8c9",
   "metadata": {},
   "outputs": [
    {
     "name": "stdout",
     "output_type": "stream",
     "text": [
      "Enter year : 2022\n",
      "Enter month : 10\n",
      "    October 2022\n",
      "Mo Tu We Th Fr Sa Su\n",
      "                1  2\n",
      " 3  4  5  6  7  8  9\n",
      "10 11 12 13 14 15 16\n",
      "17 18 19 20 21 22 23\n",
      "24 25 26 27 28 29 30\n",
      "31\n",
      "\n"
     ]
    }
   ],
   "source": [
    "import calendar\n",
    "year=int(input(\"Enter year : \"))\n",
    "month=int(input(\"Enter month : \"))\n",
    "\n",
    "print(calendar.month(year,month))"
   ]
  },
  {
   "cell_type": "markdown",
   "id": "d6826c9a",
   "metadata": {},
   "source": [
    "4.\tWrite a Python program to solve quadratic equation?"
   ]
  },
  {
   "cell_type": "code",
   "execution_count": 17,
   "id": "75aa69fc",
   "metadata": {},
   "outputs": [
    {
     "name": "stdout",
     "output_type": "stream",
     "text": [
      "enter coefficient of X**2 :-2\n",
      "enter coefficient of X  :-5\n",
      "enter constant value  :-8\n",
      "quadratic equation have roots (-1.25+1.5612494995995996j) and (-1.25-1.5612494995995996j)\n"
     ]
    }
   ],
   "source": [
    "a=float(input(\"enter coefficient of X**2 :\"))\n",
    "b=float(input(\"enter coefficient of X  :\"))\n",
    "c=float(input(\"enter constant value  :\"))\n",
    "Discriminant=b**2-4*a*c\n",
    "root_of_Discriminant=(Discriminant)**0.5\n",
    "X1=(-b - root_of_Discriminant)/(2*a)\n",
    "X2=(-b + root_of_Discriminant)/(2*a)\n",
    "print(\"quadratic equation have roots {0} and {1}\".format(X1,X2))\n",
    "\n"
   ]
  },
  {
   "cell_type": "markdown",
   "id": "e5dc1f09",
   "metadata": {},
   "source": [
    "5.\tWrite a Python program to swap two variables without temp variable?"
   ]
  },
  {
   "cell_type": "code",
   "execution_count": 19,
   "id": "a96d6a5f",
   "metadata": {},
   "outputs": [
    {
     "name": "stdout",
     "output_type": "stream",
     "text": [
      "enter any value :x\n",
      "enter any value  :y\n",
      "value of x is now changed to y and value of y is changed to x  : \n"
     ]
    }
   ],
   "source": [
    "x=input(\"enter any value :\")\n",
    "y=input(\"enter any value  :\")\n",
    "x,y=y,x\n",
    "\n",
    "print(\"value of x is now changed to {} and value of y is changed to {}  : \".format(x,y))"
   ]
  },
  {
   "cell_type": "code",
   "execution_count": null,
   "id": "84ee4807",
   "metadata": {},
   "outputs": [],
   "source": []
  }
 ],
 "metadata": {
  "kernelspec": {
   "display_name": "Python 3 (ipykernel)",
   "language": "python",
   "name": "python3"
  },
  "language_info": {
   "codemirror_mode": {
    "name": "ipython",
    "version": 3
   },
   "file_extension": ".py",
   "mimetype": "text/x-python",
   "name": "python",
   "nbconvert_exporter": "python",
   "pygments_lexer": "ipython3",
   "version": "3.9.12"
  }
 },
 "nbformat": 4,
 "nbformat_minor": 5
}
