{
 "cells": [
  {
   "cell_type": "markdown",
   "id": "62cdbb6f",
   "metadata": {},
   "source": [
    "1. In the below elements which of them are values or an expression? eg:- values can be integer or string and expressions will be mathematical operators.\n",
    "   \n",
    "   \n",
    "  \n",
    "  \n",
    "  \n",
    " \n",
    "    'hello'\n",
    "    \n",
    "    \n",
    "    *\n",
    " \n",
    " \n",
    " -87.8\n",
    "  - \n",
    "\n",
    "   / \n",
    "\n",
    " +\n",
    "\n",
    "\n",
    "  6 \n"
   ]
  },
  {
   "cell_type": "markdown",
   "id": "ed32661c",
   "metadata": {},
   "source": [
    "'hello'-values since it is string\n",
    "6-values since it is string\n",
    "-87.8-values since it is string\n",
    "\n",
    "*-expression since it is mathematical operator\n",
    "/-expression since it is mathematical operator\n",
    "+-expression since it is mathematical operator\n"
   ]
  },
  {
   "cell_type": "markdown",
   "id": "4b40713e",
   "metadata": {},
   "source": [
    "2. What is the difference between string and variable?"
   ]
  },
  {
   "cell_type": "markdown",
   "id": "2c846c81",
   "metadata": {},
   "source": [
    "variable-variable is used to store information,it may be integer,string,float,list,tuple etc...\n",
    "e.g.\n",
    "a=1,b=\"bet\",c=1.5,d=[1,1,2,3,4],e=(1,3,4,5)\n",
    "string-string is a datatype which is immutable and inclosed between \" \" or ' '.\n",
    "e.g. a=\"mango\",b=\"banana\",c='apple'"
   ]
  },
  {
   "cell_type": "markdown",
   "id": "b945bb97",
   "metadata": {},
   "source": [
    "3. Describe three different data types."
   ]
  },
  {
   "cell_type": "raw",
   "id": "c7ab0334",
   "metadata": {},
   "source": [
    "integer:integer datatype stores integers either it is negative or positive value.\n",
    "a=5,b=-5\n",
    "    \n",
    "float:float datatype stores floating-point numbers.\n",
    "a=5.0,b=-5.0,c=6.8,d=-6.8888\n",
    "    \n",
    "string: string is a datatype which is immutable and inclosed between \" \" or ' '. e.g. a=\"mango\",b=\"banana\",c='apple'"
   ]
  },
  {
   "cell_type": "markdown",
   "id": "c2d89b8a",
   "metadata": {},
   "source": [
    "4.What is an expression made up of? What do all expressions do?\n"
   ]
  },
  {
   "cell_type": "raw",
   "id": "cafda89d",
   "metadata": {},
   "source": [
    "An expression is combination of operands and operators and it is used to evaluate some value.\n",
    "e.g. a=10,here a and 10 are operands and = is mathematical operator and combination of whole is expression."
   ]
  },
  {
   "cell_type": "markdown",
   "id": "3a69cb81",
   "metadata": {},
   "source": [
    "5. This assignment statements, like spam = 10. What is the difference between an expression and a statement?"
   ]
  },
  {
   "cell_type": "raw",
   "id": "3e0c3d1b",
   "metadata": {},
   "source": [
    "All expressions are statements but all statements are not expression.\n",
    "Expression is combination of operands and operators and produces atleast one value as a result,e.g here spam=10,spam and 10 are operands and = is mathematical operator.\n",
    "Statements are instructions that python interpreter execute.\n",
    "like.spam=10;\n",
    "print(\"hello\")"
   ]
  },
  {
   "cell_type": "markdown",
   "id": "eedf85f2",
   "metadata": {},
   "source": [
    "6. After running the following code, what does the variable bacon contain?\n",
    "\n",
    "bacon = 22\n",
    "\n",
    "bacon + 1\n"
   ]
  },
  {
   "cell_type": "raw",
   "id": "d60ea27b",
   "metadata": {},
   "source": [
    "after running \n",
    "\n",
    "bacon=22\n",
    "bacon+1\n",
    "\n",
    "bacon will contain 22,\n",
    "\n",
    "if it would bacon=bacon+1\n",
    "\n",
    "then it would contain 23"
   ]
  },
  {
   "cell_type": "markdown",
   "id": "94bcc52d",
   "metadata": {},
   "source": [
    "\n",
    "7. What should the values of the following two terms be?\n",
    "\n",
    "'spam' + 'spamspam'\n",
    "\n",
    "'spam' * 3\n"
   ]
  },
  {
   "cell_type": "raw",
   "id": "868c5d8d",
   "metadata": {},
   "source": [
    "'spam'+\"spamspam\"='spamspamspam'\n",
    "\n",
    "'spam'*3='spamspamspam'\n"
   ]
  },
  {
   "cell_type": "markdown",
   "id": "1f8ca1fb",
   "metadata": {},
   "source": [
    "Why is eggs a valid variable name while 100 is invalid?"
   ]
  },
  {
   "cell_type": "raw",
   "id": "ec4f80b0",
   "metadata": {},
   "source": [
    "variable egg is starting with letter e which is valid accorting to convention of variable but 100 is an integer starting with 1 which integer and is not legal to used as a variable according to convention"
   ]
  },
  {
   "cell_type": "markdown",
   "id": "3f984a48",
   "metadata": {},
   "source": [
    "9. What three functions can be used to get the integer, floating-point number, or string version of a value?"
   ]
  },
  {
   "cell_type": "raw",
   "id": "8dde6dbd",
   "metadata": {},
   "source": [
    "integer-int()\n",
    "floating-point number-float()\n",
    "string-str()"
   ]
  },
  {
   "cell_type": "markdown",
   "id": "a673fd41",
   "metadata": {},
   "source": [
    "10. Why does this expression cause an error? How can you fix it?\n",
    "'I have eaten ' + 99 + ' burritos.'\n"
   ]
  },
  {
   "cell_type": "raw",
   "id": "95c774d8",
   "metadata": {},
   "source": [
    "error will occur because we are adding string type with integer type:\n",
    "to fix this we have to convert 99 into string using str(99)\n",
    "'I have eaten ' + str(99) +' burritos '    "
   ]
  },
  {
   "cell_type": "code",
   "execution_count": null,
   "id": "55a074f3",
   "metadata": {},
   "outputs": [],
   "source": []
  }
 ],
 "metadata": {
  "kernelspec": {
   "display_name": "Python 3 (ipykernel)",
   "language": "python",
   "name": "python3"
  },
  "language_info": {
   "codemirror_mode": {
    "name": "ipython",
    "version": 3
   },
   "file_extension": ".py",
   "mimetype": "text/x-python",
   "name": "python",
   "nbconvert_exporter": "python",
   "pygments_lexer": "ipython3",
   "version": "3.9.12"
  }
 },
 "nbformat": 4,
 "nbformat_minor": 5
}
