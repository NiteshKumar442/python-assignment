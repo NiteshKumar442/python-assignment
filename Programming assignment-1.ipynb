{
 "cells": [
  {
   "cell_type": "markdown",
   "id": "9d7a474c",
   "metadata": {},
   "source": [
    "1.\tWrite a Python program to print \"Hello Python\"?\n"
   ]
  },
  {
   "cell_type": "code",
   "execution_count": 1,
   "id": "af3f9bea",
   "metadata": {},
   "outputs": [
    {
     "name": "stdout",
     "output_type": "stream",
     "text": [
      "Hello Python\n"
     ]
    }
   ],
   "source": [
    "print(\"Hello Python\")"
   ]
  },
  {
   "cell_type": "markdown",
   "id": "bb4b4be3",
   "metadata": {},
   "source": [
    "2.\tWrite a Python program to do arithmetical operations addition and division.?"
   ]
  },
  {
   "cell_type": "code",
   "execution_count": 25,
   "id": "eadf9dd3",
   "metadata": {},
   "outputs": [
    {
     "name": "stdout",
     "output_type": "stream",
     "text": [
      "Enter a number  :45\n",
      "Enter a number  :67\n",
      "The sum of 45.0 and 67.0 = 112.0\n",
      "The division between 45.0 and 67.0 = 0.6716417910447762\n"
     ]
    }
   ],
   "source": [
    "a=float(input(\"Enter a number  :\"))\n",
    "b=float(input(\"Enter a number  :\"))\n",
    "SUM=a+b\n",
    "Division=a/b\n",
    "print(\"The sum of {0} and {1} = {2}\".format(a,b,SUM))\n",
    "print(\"The division between {0} and {1} = {2}\".format(a,b,Division))\n"
   ]
  },
  {
   "cell_type": "markdown",
   "id": "972c9b05",
   "metadata": {},
   "source": [
    "3.\tWrite a Python program to find the area of a triangle?"
   ]
  },
  {
   "cell_type": "code",
   "execution_count": 29,
   "id": "eeb94d05",
   "metadata": {},
   "outputs": [
    {
     "name": "stdout",
     "output_type": "stream",
     "text": [
      "enter first side of triangle   :3\n",
      "enter second side of triangle  :4\n",
      "enter third side of triangle   :5\n",
      "area of triangle having side 3.0, 4.0 and 5.0 = 6.0\n"
     ]
    }
   ],
   "source": [
    "a=float(input(\"enter first side of triangle   :\"))\n",
    "b=float(input(\"enter second side of triangle  :\"))\n",
    "c=float(input(\"enter third side of triangle   :\"))\n",
    "\n",
    "s=(a+b+c)/2\n",
    "d=s*(s-a)*(s-b)*(s-c)\n",
    "e=d**0.5\n",
    "print(\"area of triangle having side {0}, {1} and {2} = {3}\".format(a,b,c,e))\n"
   ]
  },
  {
   "cell_type": "markdown",
   "id": "a133066f",
   "metadata": {},
   "source": [
    "4.\tWrite a Python program to swap two variables?"
   ]
  },
  {
   "cell_type": "code",
   "execution_count": 7,
   "id": "868da448",
   "metadata": {},
   "outputs": [
    {
     "name": "stdout",
     "output_type": "stream",
     "text": [
      "input a number  : 4\n",
      "input a number  : 9\n",
      "a is now :9\n",
      "b is now :4\n"
     ]
    }
   ],
   "source": [
    "a=int(input(\"input a number  : \"))\n",
    "b=int(input(\"input a number  : \"))\n",
    "temp=a\n",
    "a=b\n",
    "b=temp\n",
    "\n",
    "print(\"a is now :{}\".format(a))\n",
    "print(\"b is now :{}\".format(b))"
   ]
  },
  {
   "cell_type": "markdown",
   "id": "5c23ff40",
   "metadata": {},
   "source": [
    "5.\tWrite a Python program to generate a random number?"
   ]
  },
  {
   "cell_type": "code",
   "execution_count": 7,
   "id": "de5a18a9",
   "metadata": {},
   "outputs": [
    {
     "name": "stdout",
     "output_type": "stream",
     "text": [
      "78\n"
     ]
    }
   ],
   "source": [
    "import random\n",
    "a=random.randint(1,100)\n",
    "print(a)"
   ]
  },
  {
   "cell_type": "code",
   "execution_count": null,
   "id": "2897cf8f",
   "metadata": {},
   "outputs": [],
   "source": []
  }
 ],
 "metadata": {
  "kernelspec": {
   "display_name": "Python 3 (ipykernel)",
   "language": "python",
   "name": "python3"
  },
  "language_info": {
   "codemirror_mode": {
    "name": "ipython",
    "version": 3
   },
   "file_extension": ".py",
   "mimetype": "text/x-python",
   "name": "python",
   "nbconvert_exporter": "python",
   "pygments_lexer": "ipython3",
   "version": "3.9.12"
  }
 },
 "nbformat": 4,
 "nbformat_minor": 5
}
